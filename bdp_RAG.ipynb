{
 "cells": [
  {
   "cell_type": "code",
   "execution_count": 2,
   "metadata": {},
   "outputs": [
    {
     "name": "stderr",
     "output_type": "stream",
     "text": [
      "c:\\Users\\vn55ysp\\AppData\\Local\\Programs\\Python\\Python312\\Lib\\site-packages\\tqdm\\auto.py:21: TqdmWarning: IProgress not found. Please update jupyter and ipywidgets. See https://ipywidgets.readthedocs.io/en/stable/user_install.html\n",
      "  from .autonotebook import tqdm as notebook_tqdm\n"
     ]
    }
   ],
   "source": [
    "import os\n",
    "import faiss\n",
    "import numpy as np\n",
    "from sentence_transformers import SentenceTransformer"
   ]
  },
  {
   "cell_type": "code",
   "execution_count": 3,
   "metadata": {},
   "outputs": [
    {
     "ename": "NameError",
     "evalue": "name 'embedding_model' is not defined",
     "output_type": "error",
     "traceback": [
      "\u001b[31m---------------------------------------------------------------------------\u001b[39m",
      "\u001b[31mNameError\u001b[39m                                 Traceback (most recent call last)",
      "\u001b[36mCell\u001b[39m\u001b[36m \u001b[39m\u001b[32mIn[3]\u001b[39m\u001b[32m, line 7\u001b[39m\n\u001b[32m      5\u001b[39m \u001b[38;5;66;03m# Ingresar una consulta y obtener su embedding\u001b[39;00m\n\u001b[32m      6\u001b[39m query = \u001b[33m\"\u001b[39m\u001b[33mEjemplo de consulta sobre seguros\u001b[39m\u001b[33m\"\u001b[39m\n\u001b[32m----> \u001b[39m\u001b[32m7\u001b[39m query_embedding = \u001b[43membedding_model\u001b[49m.encode([query], convert_to_numpy=\u001b[38;5;28;01mTrue\u001b[39;00m)\n\u001b[32m      9\u001b[39m \u001b[38;5;66;03m# Buscar los documentos más similares\u001b[39;00m\n\u001b[32m     10\u001b[39m k = \u001b[32m3\u001b[39m  \u001b[38;5;66;03m# Número de resultados a obtener\u001b[39;00m\n",
      "\u001b[31mNameError\u001b[39m: name 'embedding_model' is not defined"
     ]
    }
   ],
   "source": [
    "# Cargar el índice FAISS\n",
    "index = faiss.read_index(\"vector_index.faiss\")\n",
    "doc_ids = np.load(\"vector_ids.npy\")\n",
    "\n",
    "# Ingresar una consulta y obtener su embedding\n",
    "query = \"Ejemplo de consulta sobre seguros\"\n",
    "query_embedding = embedding_model.encode([query], convert_to_numpy=True)\n",
    "\n",
    "# Buscar los documentos más similares\n",
    "k = 3  # Número de resultados a obtener\n",
    "distances, indices = index.search(query_embedding, k)\n",
    "\n",
    "# Mostrar los documentos más relevantes\n",
    "for i, idx in enumerate(indices[0]):\n",
    "    print(f\"Resultado {i+1}: Documento ID {doc_ids[idx]} con distancia {distances[0][i]}\")"
   ]
  },
  {
   "cell_type": "code",
   "execution_count": null,
   "metadata": {},
   "outputs": [],
   "source": []
  }
 ],
 "metadata": {
  "kernelspec": {
   "display_name": "Python 3",
   "language": "python",
   "name": "python3"
  },
  "language_info": {
   "codemirror_mode": {
    "name": "ipython",
    "version": 3
   },
   "file_extension": ".py",
   "mimetype": "text/x-python",
   "name": "python",
   "nbconvert_exporter": "python",
   "pygments_lexer": "ipython3",
   "version": "3.12.3"
  }
 },
 "nbformat": 4,
 "nbformat_minor": 2
}
